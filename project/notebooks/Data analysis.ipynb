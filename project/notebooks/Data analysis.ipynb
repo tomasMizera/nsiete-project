{
 "cells": [
  {
   "cell_type": "markdown",
   "metadata": {},
   "source": [
    "# Data analysis of cloud pictures\n",
    "### Matej Cief, Tomas Mizera"
   ]
  },
  {
   "cell_type": "markdown",
   "metadata": {},
   "source": [
    "---"
   ]
  },
  {
   "cell_type": "markdown",
   "metadata": {},
   "source": [
    "### Cloud object detection"
   ]
  },
  {
   "cell_type": "code",
   "execution_count": 20,
   "metadata": {},
   "outputs": [],
   "source": [
    "import os\n",
    "import numpy as np\n",
    "import pandas as pd\n",
    "from PIL import Image"
   ]
  },
  {
   "cell_type": "markdown",
   "metadata": {},
   "source": [
    "Data come from [this kaggle competition](https://www.kaggle.com/c/understanding_cloud_organization). They are represented as pictures with corresponding run-length encoded masks that describe specific category of cloud in the pictures.\n",
    "\n",
    "|data| description|\n",
    "|:---|:---|\n",
    "|`train_images/`|directory with train images  |\n",
    "|`train.csv`|masks for train images  |\n",
    "|`test_images/`|directory with test images  |\n",
    "|`sample_submission.csv`| csv showcasing sample output for kaggle competition|\n",
    "\n",
    "Clouds are being separated into four main categories: `Fish`, `Flower`, `Gravel` and `Sugar`"
   ]
  },
  {
   "cell_type": "code",
   "execution_count": 34,
   "metadata": {},
   "outputs": [],
   "source": [
    "#load data\n",
    "train_x = os.listdir('../data/train_images/')\n",
    "train_y = pd.read_csv('../data/train.csv')\n",
    "test_x = os.listdir('../data/test_images/')\n",
    "categories = ['Fish', 'Flower', 'Gravel', 'Sugar']"
   ]
  },
  {
   "cell_type": "markdown",
   "metadata": {},
   "source": [
    "---"
   ]
  },
  {
   "cell_type": "markdown",
   "metadata": {},
   "source": [
    "### Description of data"
   ]
  },
  {
   "cell_type": "markdown",
   "metadata": {},
   "source": [
    "#### `train_x` - directory with train images"
   ]
  },
  {
   "cell_type": "markdown",
   "metadata": {},
   "source": [
    "Example train data:"
   ]
  },
  {
   "cell_type": "markdown",
   "metadata": {},
   "source": [
    "![example train image](../data/train_images/b085f55.jpg \"example train image\")"
   ]
  },
  {
   "cell_type": "code",
   "execution_count": 10,
   "metadata": {},
   "outputs": [
    {
     "data": {
      "text/plain": [
       "['203210a.jpg', 'b085f55.jpg', '5275b51.jpg', '4e6296d.jpg', '8acb403.jpg']"
      ]
     },
     "execution_count": 10,
     "metadata": {},
     "output_type": "execute_result"
    }
   ],
   "source": [
    "train_x[:5]"
   ]
  },
  {
   "cell_type": "code",
   "execution_count": 11,
   "metadata": {},
   "outputs": [
    {
     "data": {
      "text/plain": [
       "5546"
      ]
     },
     "execution_count": 11,
     "metadata": {},
     "output_type": "execute_result"
    }
   ],
   "source": [
    "len(train_x)"
   ]
  },
  {
   "cell_type": "markdown",
   "metadata": {},
   "source": [
    "There are 5546 images in the dataset and all of the images are provided in `.jpg` file format"
   ]
  },
  {
   "cell_type": "code",
   "execution_count": 21,
   "metadata": {},
   "outputs": [
    {
     "data": {
      "text/plain": [
       "(2100, 1400)"
      ]
     },
     "execution_count": 21,
     "metadata": {},
     "output_type": "execute_result"
    }
   ],
   "source": [
    "image = Image.open(\"../data/train_images/b085f55.jpg\")\n",
    "image.size"
   ]
  },
  {
   "cell_type": "markdown",
   "metadata": {},
   "source": [
    "Each picture has 2100x1400 pixels resolution"
   ]
  },
  {
   "cell_type": "markdown",
   "metadata": {},
   "source": [
    "---"
   ]
  },
  {
   "cell_type": "markdown",
   "metadata": {},
   "source": [
    "#### `train_y` mask representation "
   ]
  },
  {
   "cell_type": "markdown",
   "metadata": {},
   "source": [
    "`train_y` holds information regarding occurence of conrete cloud type in a specific image. Each image has four rows in this DataFrame, each row belongs to one of a types (Fish, Flower, Gravel and Sugar). \n",
    "\n",
    "Column **EncodedPixels** is run-length encoded value ([example, video explanation](https://www.youtube.com/watch?v=Yl50cJScObI)) that describes where is the given cloud category placed on the image. "
   ]
  },
  {
   "cell_type": "code",
   "execution_count": 12,
   "metadata": {},
   "outputs": [
    {
     "data": {
      "text/html": [
       "<div>\n",
       "<style scoped>\n",
       "    .dataframe tbody tr th:only-of-type {\n",
       "        vertical-align: middle;\n",
       "    }\n",
       "\n",
       "    .dataframe tbody tr th {\n",
       "        vertical-align: top;\n",
       "    }\n",
       "\n",
       "    .dataframe thead th {\n",
       "        text-align: right;\n",
       "    }\n",
       "</style>\n",
       "<table border=\"1\" class=\"dataframe\">\n",
       "  <thead>\n",
       "    <tr style=\"text-align: right;\">\n",
       "      <th></th>\n",
       "      <th>Image_Label</th>\n",
       "      <th>EncodedPixels</th>\n",
       "    </tr>\n",
       "  </thead>\n",
       "  <tbody>\n",
       "    <tr>\n",
       "      <th>0</th>\n",
       "      <td>0011165.jpg_Fish</td>\n",
       "      <td>264918 937 266318 937 267718 937 269118 937 27...</td>\n",
       "    </tr>\n",
       "    <tr>\n",
       "      <th>1</th>\n",
       "      <td>0011165.jpg_Flower</td>\n",
       "      <td>1355565 1002 1356965 1002 1358365 1002 1359765...</td>\n",
       "    </tr>\n",
       "    <tr>\n",
       "      <th>2</th>\n",
       "      <td>0011165.jpg_Gravel</td>\n",
       "      <td>NaN</td>\n",
       "    </tr>\n",
       "    <tr>\n",
       "      <th>3</th>\n",
       "      <td>0011165.jpg_Sugar</td>\n",
       "      <td>NaN</td>\n",
       "    </tr>\n",
       "    <tr>\n",
       "      <th>4</th>\n",
       "      <td>002be4f.jpg_Fish</td>\n",
       "      <td>233813 878 235213 878 236613 878 238010 881 23...</td>\n",
       "    </tr>\n",
       "    <tr>\n",
       "      <th>5</th>\n",
       "      <td>002be4f.jpg_Flower</td>\n",
       "      <td>1339279 519 1340679 519 1342079 519 1343479 51...</td>\n",
       "    </tr>\n",
       "  </tbody>\n",
       "</table>\n",
       "</div>"
      ],
      "text/plain": [
       "          Image_Label                                      EncodedPixels\n",
       "0    0011165.jpg_Fish  264918 937 266318 937 267718 937 269118 937 27...\n",
       "1  0011165.jpg_Flower  1355565 1002 1356965 1002 1358365 1002 1359765...\n",
       "2  0011165.jpg_Gravel                                                NaN\n",
       "3   0011165.jpg_Sugar                                                NaN\n",
       "4    002be4f.jpg_Fish  233813 878 235213 878 236613 878 238010 881 23...\n",
       "5  002be4f.jpg_Flower  1339279 519 1340679 519 1342079 519 1343479 51..."
      ]
     },
     "execution_count": 12,
     "metadata": {},
     "output_type": "execute_result"
    }
   ],
   "source": [
    "train_y.head(6)"
   ]
  },
  {
   "cell_type": "code",
   "execution_count": 35,
   "metadata": {},
   "outputs": [
    {
     "data": {
      "text/plain": [
       "5546"
      ]
     },
     "execution_count": 35,
     "metadata": {},
     "output_type": "execute_result"
    }
   ],
   "source": [
    "train_y.shape[0]//len(categories)"
   ]
  },
  {
   "cell_type": "markdown",
   "metadata": {},
   "source": [
    "Number of labels is the same as the number of images in `train_x`"
   ]
  },
  {
   "cell_type": "code",
   "execution_count": 13,
   "metadata": {},
   "outputs": [],
   "source": [
    "# we took this function transforming run-length encoding to numpy array\n",
    "# from https://www.kaggle.com/ekhtiar/eda-find-me-in-the-clouds\n",
    "\n",
    "def rle_to_mask(rle_string, width, height):\n",
    "    '''\n",
    "    convert RLE(run length encoding) string to numpy array\n",
    "\n",
    "    Parameters: \n",
    "    rle_string (str): string of rle encoded mask\n",
    "    height (int): height of the mask\n",
    "    width (int): width of the mask\n",
    "\n",
    "    Returns: \n",
    "    numpy.array: numpy array of the mask\n",
    "    '''\n",
    "    \n",
    "    rows, cols = height, width\n",
    "    \n",
    "    if rle_string == -1:\n",
    "        return np.zeros((height, width))\n",
    "    else:\n",
    "        rle_numbers = [int(num_string) for num_string in rle_string.split(' ')]\n",
    "        rle_pairs = np.array(rle_numbers).reshape(-1,2)\n",
    "        img = np.zeros(rows*cols, dtype=np.uint8)\n",
    "        for index, length in rle_pairs:\n",
    "            index -= 1\n",
    "            img[index:index+length] = 255\n",
    "        img = img.reshape(cols,rows)\n",
    "        img = img.T\n",
    "        return img"
   ]
  },
  {
   "cell_type": "code",
   "execution_count": 26,
   "metadata": {},
   "outputs": [
    {
     "data": {
      "text/plain": [
       "array([[0, 0, 0, ..., 0, 0, 0],\n",
       "       [0, 0, 0, ..., 0, 0, 0],\n",
       "       [0, 0, 0, ..., 0, 0, 0],\n",
       "       ...,\n",
       "       [0, 0, 0, ..., 0, 0, 0],\n",
       "       [0, 0, 0, ..., 0, 0, 0],\n",
       "       [0, 0, 0, ..., 0, 0, 0]], dtype=uint8)"
      ]
     },
     "execution_count": 26,
     "metadata": {},
     "output_type": "execute_result"
    }
   ],
   "source": [
    "mask = rle_to_mask(train_y.EncodedPixels[0], 2100, 1400)\n",
    "mask"
   ]
  },
  {
   "cell_type": "markdown",
   "metadata": {},
   "source": [
    "Example of mask"
   ]
  },
  {
   "cell_type": "code",
   "execution_count": 28,
   "metadata": {},
   "outputs": [
    {
     "data": {
      "image/png": "[encoded data removed]",
      "text/plain": [
       "<PIL.Image.Image image mode=L size=2100x1400 at 0x7F6735440D68>"
      ]
     },
     "execution_count": 28,
     "metadata": {},
     "output_type": "execute_result"
    }
   ],
   "source": [
    "Image.fromarray(mask)"
   ]
  },
  {
   "cell_type": "code",
   "execution_count": null,
   "metadata": {},
   "outputs": [],
   "source": []
  },
  {
   "cell_type": "code",
   "execution_count": null,
   "metadata": {},
   "outputs": [],
   "source": []
  },
  {
   "cell_type": "code",
   "execution_count": null,
   "metadata": {},
   "outputs": [],
   "source": []
  },
  {
   "cell_type": "code",
   "execution_count": null,
   "metadata": {},
   "outputs": [],
   "source": []
  },
  {
   "cell_type": "code",
   "execution_count": null,
   "metadata": {},
   "outputs": [],
   "source": [
    "train_x_file_names = os.listdir('../data/train_images')\n",
    "train_x_file_names[0:5]"
   ]
  },
  {
   "cell_type": "code",
   "execution_count": null,
   "metadata": {
    "scrolled": true
   },
   "outputs": [],
   "source": [
    "train_y = pd.read_csv('../data/train.csv')\n",
    "train_y"
   ]
  },
  {
   "cell_type": "code",
   "execution_count": null,
   "metadata": {},
   "outputs": [],
   "source": [
    "pd.DataFrame(train_y.apply(lambda x: x['Image_Label'].split('.'), axis=1))"
   ]
  },
  {
   "cell_type": "code",
   "execution_count": null,
   "metadata": {},
   "outputs": [],
   "source": [
    "train_y[['images']] = pd.DataFrame(train_y.apply(lambda x: x['Image_Label'].split('.')[0], axis=1))\n",
    "train_y[['labels']] = pd.DataFrame(train_y.apply(lambda x: x['Image_Label'].split('.')[1].split('_')[1], axis=1))"
   ]
  },
  {
   "cell_type": "code",
   "execution_count": null,
   "metadata": {},
   "outputs": [],
   "source": [
    "train_y.head(5)"
   ]
  },
  {
   "cell_type": "code",
   "execution_count": null,
   "metadata": {},
   "outputs": [],
   "source": [
    "len(train_y.groupby(by='images').filter(lambda x: x['EncodedPixels'].notnull().sum() == 1)) / 4"
   ]
  },
  {
   "cell_type": "code",
   "execution_count": null,
   "metadata": {},
   "outputs": [],
   "source": [
    "train_y.shape[0] "
   ]
  },
  {
   "cell_type": "code",
   "execution_count": null,
   "metadata": {},
   "outputs": [],
   "source": [
    "train_y['image', 'label'] = train_y.Image_Label.str.split('.')"
   ]
  },
  {
   "cell_type": "code",
   "execution_count": null,
   "metadata": {},
   "outputs": [],
   "source": []
  },
  {
   "cell_type": "code",
   "execution_count": null,
   "metadata": {},
   "outputs": [],
   "source": []
  },
  {
   "cell_type": "code",
   "execution_count": null,
   "metadata": {},
   "outputs": [],
   "source": []
  },
  {
   "cell_type": "code",
   "execution_count": 1,
   "metadata": {},
   "outputs": [],
   "source": [
    "TRAIN_PATH = '../data/train_images/'\n",
    "TEST_PATH = '../data/test_images/'"
   ]
  },
  {
   "cell_type": "code",
   "execution_count": 2,
   "metadata": {},
   "outputs": [
    {
     "ename": "NameError",
     "evalue": "name 'train_x_file_names' is not defined",
     "output_type": "error",
     "traceback": [
      "\u001b[0;31m---------------------------------------------------------------------------\u001b[0m",
      "\u001b[0;31mNameError\u001b[0m                                 Traceback (most recent call last)",
      "\u001b[0;32m<ipython-input-2-9b4d524672bf>\u001b[0m in \u001b[0;36m<module>\u001b[0;34m\u001b[0m\n\u001b[0;32m----> 1\u001b[0;31m \u001b[0mtrain_fns\u001b[0m \u001b[0;34m=\u001b[0m \u001b[0mtrain_x_file_names\u001b[0m\u001b[0;34m\u001b[0m\u001b[0;34m\u001b[0m\u001b[0m\n\u001b[0m",
      "\u001b[0;31mNameError\u001b[0m: name 'train_x_file_names' is not defined"
     ]
    }
   ],
   "source": [
    "train_fns = train_x_file_names"
   ]
  },
  {
   "cell_type": "code",
   "execution_count": 3,
   "metadata": {},
   "outputs": [
    {
     "ename": "NameError",
     "evalue": "name 'train_x_file_names' is not defined",
     "output_type": "error",
     "traceback": [
      "\u001b[0;31m---------------------------------------------------------------------------\u001b[0m",
      "\u001b[0;31mNameError\u001b[0m                                 Traceback (most recent call last)",
      "\u001b[0;32m<ipython-input-3-9f8715169724>\u001b[0m in \u001b[0;36m<module>\u001b[0;34m\u001b[0m\n\u001b[0;32m----> 1\u001b[0;31m \u001b[0mlen\u001b[0m\u001b[0;34m(\u001b[0m\u001b[0mtrain_x_file_names\u001b[0m\u001b[0;34m)\u001b[0m\u001b[0;34m\u001b[0m\u001b[0;34m\u001b[0m\u001b[0m\n\u001b[0m",
      "\u001b[0;31mNameError\u001b[0m: name 'train_x_file_names' is not defined"
     ]
    }
   ],
   "source": [
    "len(train_x_file_names)"
   ]
  },
  {
   "cell_type": "code",
   "execution_count": null,
   "metadata": {
    "scrolled": true
   },
   "outputs": [],
   "source": [
    "train_y.EncodedPixels"
   ]
  },
  {
   "cell_type": "code",
   "execution_count": null,
   "metadata": {},
   "outputs": [],
   "source": [
    "# imports\n",
    "import numpy as np # linear algebra\n",
    "import pandas as pd # data processing, CSV file I/O (e.g. pd.read_csv)\n",
    "\n",
    "# import basic libraries\n",
    "import os\n",
    "from glob import glob\n",
    "\n",
    "# import plotting\n",
    "from matplotlib import pyplot as plt\n",
    "import matplotlib.patches as patches\n",
    "import matplotlib\n",
    "import seaborn as sns\n",
    "\n",
    "# import image manipulation\n",
    "from PIL import Image\n",
    "import imageio"
   ]
  },
  {
   "cell_type": "code",
   "execution_count": null,
   "metadata": {},
   "outputs": [],
   "source": [
    "train_df = pd.read_csv('../data/train.csv')"
   ]
  },
  {
   "cell_type": "code",
   "execution_count": null,
   "metadata": {},
   "outputs": [],
   "source": [
    "def get_image_sizes(train = True):\n",
    "    '''\n",
    "    Function to get sizes of images from test and train sets.\n",
    "    INPUT:\n",
    "        train - indicates whether we are getting sizes of images from train or test set\n",
    "    '''\n",
    "    if train:\n",
    "        path = TRAIN_PATH\n",
    "    else:\n",
    "        path = TEST_PATH\n",
    "        \n",
    "    widths = []\n",
    "    heights = []\n",
    "    \n",
    "    images = sorted(glob(path + '*.jpg'))\n",
    "    \n",
    "    max_im = Image.open(images[0])\n",
    "    min_im = Image.open(images[0])\n",
    "        \n",
    "    for im in range(0, len(images)):\n",
    "        image = Image.open(images[im])\n",
    "        width, height = image.size\n",
    "        \n",
    "        if len(widths) > 0:\n",
    "            if width > max(widths):\n",
    "                max_im = image\n",
    "\n",
    "            if width < min(widths):\n",
    "                min_im = image\n",
    "\n",
    "        widths.append(width)\n",
    "        heights.append(height)\n",
    "        \n",
    "    return widths, heights, max_im, min_im"
   ]
  },
  {
   "cell_type": "code",
   "execution_count": null,
   "metadata": {},
   "outputs": [],
   "source": [
    "# get sizes of images from test and train sets\n",
    "train_widths, train_heights, max_train, min_train = get_image_sizes(train = True)\n",
    "test_widths, test_heights, max_test, min_test = get_image_sizes(train = False)\n",
    "\n",
    "print('Maximum width for training set is {}'.format(max(train_widths)))\n",
    "print('Minimum width for training set is {}'.format(min(train_widths)))\n",
    "print('Maximum height for training set is {}'.format(max(train_heights)))\n",
    "print('Minimum height for training set is {}'.format(min(train_heights)))"
   ]
  },
  {
   "cell_type": "code",
   "execution_count": null,
   "metadata": {},
   "outputs": [],
   "source": [
    "# helper function to get a string of labels for the picture\n",
    "def get_labels(image_id):\n",
    "    ''' Function to get the labels for the image by name'''\n",
    "    im_df = train_df[train_df['Image'] == image_id].fillna('-1')\n",
    "    im_df = im_df[im_df['EncodedPixels'] != '-1'].groupby('Label').count()\n",
    "    \n",
    "    index = im_df.index\n",
    "    all_labels = ['Fish', 'Flower', 'Gravel', 'Sugar']\n",
    "    \n",
    "    labels = ''\n",
    "    \n",
    "    for label in all_labels:\n",
    "        if label in index:\n",
    "            labels = labels + ' ' + label\n",
    "    \n",
    "    return labels\n",
    "\n",
    "# function to plot a grid of images and their labels\n",
    "def plot_training_images(width = 5, height = 2):\n",
    "    \"\"\"\n",
    "    Function to plot grid with several examples of cloud images from train set.\n",
    "    INPUT:\n",
    "        width - number of images per row\n",
    "        height - number of rows\n",
    "\n",
    "    OUTPUT: None\n",
    "    \"\"\"\n",
    "    \n",
    "    # get a list of images from training set\n",
    "    images = sorted(glob(TRAIN_PATH + '*.jpg'))\n",
    "    \n",
    "    fig, axs = plt.subplots(height, width, figsize=(width * 3, height * 3))\n",
    "    \n",
    "    # create a list of random indices \n",
    "    rnd_indices = rnd_indices = [np.random.choice(range(0, len(images))) for i in range(height * width)]\n",
    "    \n",
    "    for im in range(0, height * width):\n",
    "        # open image with a random index\n",
    "        image = Image.open(images[rnd_indices[im]])\n",
    "        \n",
    "        i = im // width\n",
    "        j = im % width\n",
    "        \n",
    "        # plot the image\n",
    "        axs[i,j].imshow(image) #plot the data\n",
    "        axs[i,j].axis('off')\n",
    "        axs[i,j].set_title(get_labels(images[rnd_indices[im]].split('/')[-1]))\n",
    "\n",
    "    # set suptitle\n",
    "    plt.suptitle('Sample images from the train set')\n",
    "    plt.show()"
   ]
  },
  {
   "cell_type": "code",
   "execution_count": null,
   "metadata": {},
   "outputs": [],
   "source": [
    "plot_training_images()"
   ]
  },
  {
   "cell_type": "code",
   "execution_count": null,
   "metadata": {},
   "outputs": [],
   "source": [
    "def rle_to_mask(rle_string, width, height):\n",
    "    '''\n",
    "    convert RLE(run length encoding) string to numpy array\n",
    "\n",
    "    Parameters: \n",
    "    rle_string (str): string of rle encoded mask\n",
    "    height (int): height of the mask\n",
    "    width (int): width of the mask\n",
    "\n",
    "    Returns: \n",
    "    numpy.array: numpy array of the mask\n",
    "    '''\n",
    "    \n",
    "    rows, cols = height, width\n",
    "    \n",
    "    if rle_string == -1:\n",
    "        return np.zeros((height, width))\n",
    "    else:\n",
    "        rle_numbers = [int(num_string) for num_string in rle_string.split(' ')]\n",
    "        rle_pairs = np.array(rle_numbers).reshape(-1,2)\n",
    "        img = np.zeros(rows*cols, dtype=np.uint8)\n",
    "        for index, length in rle_pairs:\n",
    "            index -= 1\n",
    "            img[index:index+length] = 255\n",
    "        img = img.reshape(cols,rows)\n",
    "        img = img.T\n",
    "        return img"
   ]
  },
  {
   "cell_type": "code",
   "execution_count": null,
   "metadata": {},
   "outputs": [],
   "source": [
    "from __future__ import print_function\n",
    "import numpy as np\n",
    "\n",
    "def valid_imshow_data(data):\n",
    "    data = np.asarray(data)\n",
    "    if data.ndim == 2:\n",
    "        return True\n",
    "    elif data.ndim == 3:\n",
    "        if 3 <= data.shape[2] <= 4:\n",
    "            return True\n",
    "        else:\n",
    "            print('The \"data\" has 3 dimensions but the last dimension '\n",
    "                  'must have a length of 3 (RGB) or 4 (RGBA), not \"{}\".'\n",
    "                  ''.format(data.shape[2]))\n",
    "            return False\n",
    "    else:\n",
    "        print('To visualize an image the data must be 2 dimensional or '\n",
    "              '3 dimensional, not \"{}\".'\n",
    "              ''.format(data.ndim))\n",
    "        return False"
   ]
  },
  {
   "cell_type": "code",
   "execution_count": null,
   "metadata": {},
   "outputs": [],
   "source": [
    "def get_mask(line_id, shape = (2100, 1400)):\n",
    "    '''\n",
    "    Function to visualize the image and the mask.\n",
    "    INPUT:\n",
    "        line_id - id of the line to visualize the masks\n",
    "        shape - image shape\n",
    "    RETURNS:\n",
    "        np_mask - numpy segmentation map\n",
    "    '''\n",
    "    # replace null values with '-1'\n",
    "    im_df = train_df.fillna('-1')\n",
    "    \n",
    "    # convert rle to mask\n",
    "    rle = im_df.loc[line_id]['EncodedPixels']\n",
    "    if rle != '-1':\n",
    "        np_mask = rle_to_mask(rle, shape[0], shape[1])\n",
    "        np_mask = np.clip(np_mask, 0, 1)\n",
    "    else:\n",
    "        # empty mask\n",
    "        np_mask = np.zeros((shape[0],shape[1]), dtype=np.uint8)\n",
    "        \n",
    "    return np_mask\n",
    "\n",
    "# helper function to get segmentation mask for an image by filename\n",
    "def get_mask_by_image_id(image_id, label):\n",
    "    '''\n",
    "    Function to visualize several segmentation maps.\n",
    "    INPUT:\n",
    "        image_id - filename of the image\n",
    "    RETURNS:\n",
    "        np_mask - numpy segmentation map\n",
    "    '''\n",
    "    im_df = train_df[train_df['Image'] == image_id.split('/')[-1]].fillna('-1')\n",
    "\n",
    "    image = np.asarray(Image.open(image_id))\n",
    "\n",
    "    rle = im_df[im_df['Label'] == label]['EncodedPixels'].values[0]\n",
    "    if rle != '-1':\n",
    "        np_mask = rle_to_mask(rle, np.asarray(image).shape[1], np.asarray(image).shape[0])\n",
    "        np_mask = np.clip(np_mask, 0, 1)\n",
    "    else:\n",
    "        # empty mask\n",
    "        np_mask = np.zeros((np.asarray(image).shape[0], np.asarray(image).shape[1]), dtype=np.uint8)\n",
    "        \n",
    "    return np_mask\n",
    "\n",
    "def visualize_image_with_mask(line_id):\n",
    "    '''\n",
    "    Function to visualize the image and the mask.\n",
    "    INPUT:\n",
    "        line_id - id of the line to visualize the masks\n",
    "    '''\n",
    "    # replace null values with '-1'\n",
    "    im_df = train_df.fillna('-1')\n",
    "    \n",
    "    # get segmentation mask\n",
    "    np_mask = get_mask(line_id)\n",
    "    \n",
    "    # open the image\n",
    "    image = Image.open(TRAIN_PATH + im_df.loc[line_id]['Image'])\n",
    "\n",
    "    # create segmentation map\n",
    "    segmap = SegmentationMapOnImage(np_mask, np_mask.shape, nb_classes=2)\n",
    "    \n",
    "    # visualize the image and map\n",
    "    side_by_side = np.hstack([\n",
    "        segmap.draw_on_image(np.asarray(image))\n",
    "    ]).reshape(np.asarray(image).shape)\n",
    "\n",
    "    fig, ax = plt.subplots(figsize=(6, 4))\n",
    "    ax.axis('off')\n",
    "    plt.title(im_df.loc[line_id]['Label'])\n",
    "    \n",
    "    ax.imshow(side_by_side)"
   ]
  }
 ],
 "metadata": {
  "kernelspec": {
   "display_name": "Python 3",
   "language": "python",
   "name": "python3"
  },
  "language_info": {
   "codemirror_mode": {
    "name": "ipython",
    "version": 3
   },
   "file_extension": ".py",
   "mimetype": "text/x-python",
   "name": "python",
   "nbconvert_exporter": "python",
   "pygments_lexer": "ipython3",
   "version": "3.6.8"
  }
 },
 "nbformat": 4,
 "nbformat_minor": 2
}
