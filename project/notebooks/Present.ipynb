{
 "cells": [
  {
   "cell_type": "markdown",
   "metadata": {},
   "source": [
    "# Presenting predictions"
   ]
  },
  {
   "cell_type": "code",
   "execution_count": 13,
   "metadata": {},
   "outputs": [],
   "source": [
    "#imports \n",
    "import sys\n",
    "sys.path.append('../src')\n",
    "\n",
    "import models.model as demo"
   ]
  },
  {
   "cell_type": "code",
   "execution_count": 14,
   "metadata": {},
   "outputs": [],
   "source": [
    "PROJECT_PATH = '/home/tomasmizera/school/nsiete/nsiete-project/project/'"
   ]
  },
  {
   "cell_type": "markdown",
   "metadata": {},
   "source": [
    "First, we create model"
   ]
  },
  {
   "cell_type": "code",
   "execution_count": 15,
   "metadata": {},
   "outputs": [],
   "source": [
    "model = demo.create_model()"
   ]
  },
  {
   "cell_type": "markdown",
   "metadata": {},
   "source": [
    "Second, load saved model"
   ]
  },
  {
   "cell_type": "code",
   "execution_count": 4,
   "metadata": {},
   "outputs": [],
   "source": [
    "model.load_weights(PROJECT_PATH + 'models/model.ckpt')"
   ]
  },
  {
   "cell_type": "markdown",
   "metadata": {},
   "source": [
    "Third, get data generator"
   ]
  },
  {
   "cell_type": "code",
   "execution_count": 5,
   "metadata": {},
   "outputs": [],
   "source": [
    "data_generator = demo.train_generator"
   ]
  },
  {
   "cell_type": "markdown",
   "metadata": {},
   "source": [
    "Fourth, we get sample data, store true labels and prepare X for prediction"
   ]
  },
  {
   "cell_type": "code",
   "execution_count": 6,
   "metadata": {},
   "outputs": [],
   "source": [
    "X, Y = data_generator.__getitem__(0)"
   ]
  },
  {
   "cell_type": "code",
   "execution_count": 7,
   "metadata": {},
   "outputs": [
    {
     "data": {
      "text/plain": [
       "(32, 256, 384, 3)"
      ]
     },
     "execution_count": 7,
     "metadata": {},
     "output_type": "execute_result"
    }
   ],
   "source": [
    "X.shape"
   ]
  },
  {
   "cell_type": "code",
   "execution_count": 8,
   "metadata": {},
   "outputs": [
    {
     "data": {
      "text/plain": [
       "(32, 256, 384, 4)"
      ]
     },
     "execution_count": 8,
     "metadata": {},
     "output_type": "execute_result"
    }
   ],
   "source": [
    "Y.shape"
   ]
  },
  {
   "cell_type": "markdown",
   "metadata": {},
   "source": [
    "**X** - consists of images (batch size * (resolution) * channels)  \n",
    "**Y** - masks for every cloud type (batch size * (resolution) * num of cloud classes)"
   ]
  },
  {
   "cell_type": "code",
   "execution_count": 9,
   "metadata": {},
   "outputs": [
    {
     "data": {
      "text/plain": [
       "array([0.3546837 , 0.37036997, 0.37612975])"
      ]
     },
     "execution_count": 9,
     "metadata": {},
     "output_type": "execute_result"
    }
   ],
   "source": [
    "# one pixel for each channel -- color\n",
    "X[0][0][0]"
   ]
  },
  {
   "cell_type": "markdown",
   "metadata": {},
   "source": [
    "Next, predict mask for input image X"
   ]
  },
  {
   "cell_type": "code",
   "execution_count": 12,
   "metadata": {},
   "outputs": [
    {
     "data": {
      "text/plain": [
       "['/home/tomasmizera/school/nsiete/nsiete-project/project/data/train_images//9ba0225.jpg',\n",
       " '/home/tomasmizera/school/nsiete/nsiete-project/project/data/train_images//ff00e81.jpg',\n",
       " '/home/tomasmizera/school/nsiete/nsiete-project/project/data/train_images//9a9d599.jpg',\n",
       " '/home/tomasmizera/school/nsiete/nsiete-project/project/data/train_images//1dacc16.jpg',\n",
       " '/home/tomasmizera/school/nsiete/nsiete-project/project/data/train_images//72e4b6e.jpg',\n",
       " '/home/tomasmizera/school/nsiete/nsiete-project/project/data/train_images//3fc1779.jpg',\n",
       " '/home/tomasmizera/school/nsiete/nsiete-project/project/data/train_images//7adf177.jpg',\n",
       " '/home/tomasmizera/school/nsiete/nsiete-project/project/data/train_images//b9425c3.jpg',\n",
       " '/home/tomasmizera/school/nsiete/nsiete-project/project/data/train_images//e5405df.jpg',\n",
       " '/home/tomasmizera/school/nsiete/nsiete-project/project/data/train_images//59f6a74.jpg',\n",
       " '/home/tomasmizera/school/nsiete/nsiete-project/project/data/train_images//e317214.jpg',\n",
       " '/home/tomasmizera/school/nsiete/nsiete-project/project/data/train_images//86ab75c.jpg',\n",
       " '/home/tomasmizera/school/nsiete/nsiete-project/project/data/train_images//46cf440.jpg',\n",
       " '/home/tomasmizera/school/nsiete/nsiete-project/project/data/train_images//a95fa42.jpg',\n",
       " '/home/tomasmizera/school/nsiete/nsiete-project/project/data/train_images//554a149.jpg',\n",
       " '/home/tomasmizera/school/nsiete/nsiete-project/project/data/train_images//3af6e4a.jpg',\n",
       " '/home/tomasmizera/school/nsiete/nsiete-project/project/data/train_images//06b7be8.jpg',\n",
       " '/home/tomasmizera/school/nsiete/nsiete-project/project/data/train_images//6003371.jpg',\n",
       " '/home/tomasmizera/school/nsiete/nsiete-project/project/data/train_images//c596809.jpg',\n",
       " '/home/tomasmizera/school/nsiete/nsiete-project/project/data/train_images//f1c0970.jpg',\n",
       " '/home/tomasmizera/school/nsiete/nsiete-project/project/data/train_images//3b75975.jpg',\n",
       " '/home/tomasmizera/school/nsiete/nsiete-project/project/data/train_images//e78bd86.jpg',\n",
       " '/home/tomasmizera/school/nsiete/nsiete-project/project/data/train_images//1f995ec.jpg',\n",
       " '/home/tomasmizera/school/nsiete/nsiete-project/project/data/train_images//1b0083b.jpg',\n",
       " '/home/tomasmizera/school/nsiete/nsiete-project/project/data/train_images//29f7bea.jpg',\n",
       " '/home/tomasmizera/school/nsiete/nsiete-project/project/data/train_images//c59bef7.jpg',\n",
       " '/home/tomasmizera/school/nsiete/nsiete-project/project/data/train_images//0d82645.jpg',\n",
       " '/home/tomasmizera/school/nsiete/nsiete-project/project/data/train_images//d46c245.jpg',\n",
       " '/home/tomasmizera/school/nsiete/nsiete-project/project/data/train_images//7e9c74a.jpg',\n",
       " '/home/tomasmizera/school/nsiete/nsiete-project/project/data/train_images//526a00a.jpg',\n",
       " '/home/tomasmizera/school/nsiete/nsiete-project/project/data/train_images//72da928.jpg',\n",
       " '/home/tomasmizera/school/nsiete/nsiete-project/project/data/train_images//14750a8.jpg']"
      ]
     },
     "execution_count": 12,
     "metadata": {},
     "output_type": "execute_result"
    }
   ],
   "source": [
    "data_generator.latest_images"
   ]
  }
 ],
 "metadata": {
  "kernelspec": {
   "display_name": "Python 3",
   "language": "python",
   "name": "python3"
  },
  "language_info": {
   "codemirror_mode": {
    "name": "ipython",
    "version": 3
   },
   "file_extension": ".py",
   "mimetype": "text/x-python",
   "name": "python",
   "nbconvert_exporter": "python",
   "pygments_lexer": "ipython3",
   "version": "3.6.8"
  }
 },
 "nbformat": 4,
 "nbformat_minor": 2
}
